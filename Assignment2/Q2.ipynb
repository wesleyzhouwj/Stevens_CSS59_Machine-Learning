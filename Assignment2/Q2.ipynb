{
 "cells": [
  {
   "cell_type": "code",
   "execution_count": 1,
   "metadata": {},
   "outputs": [],
   "source": [
    "import pandas as pd\n",
    "import numpy as np\n",
    "from sklearn.feature_extraction.text import CountVectorizer\n",
    "from sklearn.feature_extraction.text import TfidfVectorizer\n",
    "from sklearn.feature_extraction.text import TfidfTransformer "
   ]
  },
  {
   "cell_type": "code",
   "execution_count": 2,
   "metadata": {},
   "outputs": [],
   "source": [
    "# data_AC = pd.read_csv('C:\\\\Users\\\\WesleyZhou\\\\Desktop\\\\CS559\\\\Assignment2\\\\pg1661.txt',sep='\\t',header=None)\n",
    "# data_JA = pd.read_csv('C:\\\\Users\\\\WesleyZhou\\\\Desktop\\\\CS559\\\\Assignment2\\\\pg31100.txt',sep='\\t',header = None)"
   ]
  },
  {
   "cell_type": "code",
   "execution_count": 3,
   "metadata": {},
   "outputs": [],
   "source": [
    "data_AC = open(\"C:\\\\Users\\\\WesleyZhou\\\\Desktop\\\\CS559\\\\Assignment2\\\\pg1661.txt\",mode='r', encoding='utf-8-sig').read().replace('\\n',\" \")\n",
    "data_JA = open(\"C:\\\\Users\\\\WesleyZhou\\\\Desktop\\\\CS559\\\\Assignment2\\\\pg31100.txt\",mode='r', encoding='utf-8-sig').read().replace('\\n',\" \")"
   ]
  },
  {
   "cell_type": "code",
   "execution_count": 4,
   "metadata": {},
   "outputs": [],
   "source": [
    "sentence_AC = data_AC.split('.')\n",
    "sentence_JA = data_JA.split('.')\n",
    "word_AC = data_AC.split(' ')\n",
    "word_JA = data_JA.split(' ')\n",
    "\n",
    "train_word_AC = word_AC[:4112]\n",
    "train_word_JA = word_JA[:22802]\n",
    "test_word_AC = word_AC[4113:]\n",
    "test_word_JA = word_JA[22803:]\n",
    "\n",
    "word_AC = train_word_AC\n",
    "word_JA = train_word_JA"
   ]
  },
  {
   "cell_type": "code",
   "execution_count": 5,
   "metadata": {},
   "outputs": [],
   "source": [
    "dict_AC = {}\n",
    "dict_JA = {}\n",
    "set_AC = set()\n",
    "set_JA = set()"
   ]
  },
  {
   "cell_type": "code",
   "execution_count": 6,
   "metadata": {},
   "outputs": [],
   "source": [
    "dict_AC[\"word\"] = []\n",
    "dict_AC[\"# of Occurrences of Word in AC\"] = []\n",
    "dict_AC[\"Total Words in AC\"] = []\n",
    "dict_AC[\"Conditional Probability of Given Word in AC\"] = []\n",
    "dict_AC[\"# of Total Unique Words in All Documents\"] = []\n",
    "\n",
    "dict_JA[\"word1\"] = []\n",
    "dict_JA[\"# of Occurrences of Word in JA\"] = []\n",
    "dict_JA[\"Total Words in JA\"] = []\n",
    "dict_JA[\"Conditional Probability of Given Word in JA\"] = []\n",
    "dict_JA[\"# of Total Unique Words in All Documents\"] = []\n",
    "\n",
    "map_AC = {}\n",
    "map_JA = {}\n",
    "count_AC = 0\n",
    "count_JA = 0"
   ]
  },
  {
   "cell_type": "code",
   "execution_count": 7,
   "metadata": {},
   "outputs": [],
   "source": [
    "stop_words = [\n",
    "\"a\", \"about\", \"above\", \"across\", \"after\", \"afterwards\", \n",
    "\"again\", \"all\", \"almost\", \"alone\", \"along\", \"already\", \"also\",    \n",
    "\"although\", \"always\", \"am\", \"among\", \"amongst\", \"amoungst\", \"amount\", \"an\", \"and\", \"another\", \"any\", \"anyhow\", \"anyone\", \"anything\", \"anyway\", \"anywhere\", \"are\", \"as\", \"at\", \"be\", \"became\", \"because\", \"become\",\"becomes\", \"becoming\", \"been\", \"before\", \"behind\", \"being\", \"beside\", \"besides\", \"between\", \"beyond\", \"both\", \"but\", \"by\",\"can\", \"cannot\", \"cant\", \"could\", \"couldnt\", \"de\", \"describe\", \"do\", \"done\", \"each\", \"eg\", \"either\", \"else\", \"enough\", \"etc\", \"even\", \"ever\", \"every\", \"everyone\", \"everything\", \"everywhere\", \"except\", \"few\", \"find\",\"for\",\"found\", \"four\", \"from\", \"further\", \"get\", \"give\", \"go\", \"had\", \"has\", \"hasnt\", \"have\", \"he\", \"hence\", \"her\", \"here\", \"hereafter\", \"hereby\", \"herein\", \"hereupon\", \"hers\", \"herself\", \"him\", \"himself\", \"his\", \"how\", \"however\", \"i\", \"ie\", \"if\", \"in\", \"indeed\", \"is\", \"it\", \"its\", \"itself\", \"keep\", \"least\", \"less\", \"ltd\", \"made\", \"many\", \"may\", \"me\", \"meanwhile\", \"might\", \"mine\", \"more\", \"moreover\", \"most\", \"mostly\", \"much\", \"must\", \"my\", \"myself\", \"name\", \"namely\", \"neither\", \"never\", \"nevertheless\", \"next\",\"no\", \"nobody\", \"none\", \"noone\", \"nor\", \"not\", \"nothing\", \"now\", \"nowhere\", \"of\", \"off\", \"often\", \"on\", \"once\", \"one\", \"only\", \"onto\", \"or\", \"other\", \"others\", \"otherwise\", \"our\", \"ours\", \"ourselves\", \"out\", \"over\", \"own\", \"part\",\"perhaps\", \"please\", \"put\", \"rather\", \"re\", \"same\", \"see\", \"seem\", \"seemed\", \"seeming\", \"seems\", \"she\", \"should\",\"since\", \"sincere\",\"so\", \"some\", \"somehow\", \"someone\", \"something\", \"sometime\", \"sometimes\", \"somewhere\", \"still\", \"such\", \"take\",\"than\", \"that\", \"the\", \"their\", \"them\", \"themselves\", \"then\", \"thence\", \"there\", \"thereafter\", \"thereby\", \"therefore\", \"therein\", \"thereupon\", \"these\", \"they\",\n",
    "\"this\", \"those\", \"though\", \"through\", \"throughout\",\n",
    "\"thru\", \"thus\", \"to\", \"together\", \"too\", \"toward\", \"towards\",\n",
    "\"under\", \"until\", \"up\", \"upon\", \"us\",\n",
    "\"very\", \"was\", \"we\", \"well\", \"were\", \"what\", \"whatever\", \"when\",\n",
    "\"whence\", \"whenever\", \"where\", \"whereafter\", \"whereas\", \"whereby\",\n",
    "\"wherein\", \"whereupon\", \"wherever\", \"whether\", \"which\", \"while\", \n",
    "\"who\", \"whoever\", \"whom\", \"whose\", \"why\", \"will\", \"with\",\n",
    "\"within\", \"without\", \"would\", \"yet\", \"you\", \"your\", \"yours\", \"yourself\", \"yourselves\"\n",
    "]"
   ]
  },
  {
   "cell_type": "code",
   "execution_count": 8,
   "metadata": {},
   "outputs": [],
   "source": [
    "for i in range(len(word_AC)):\n",
    "    curWord = word_AC[i]\n",
    "    if curWord == ' ':\n",
    "        continue\n",
    "    if stop_words.count(curWord) == 1:\n",
    "        continue\n",
    "    set_AC.add(curWord)\n",
    "    count_AC+=1\n",
    "    if (curWord in map_AC) == False:\n",
    "        map_AC[curWord] = 1\n",
    "    else:\n",
    "        map_AC[curWord] = map_AC.get(curWord)+1\n",
    "        \n",
    "for j in range(len(word_JA)):\n",
    "    curWord1 = word_JA[j]\n",
    "    if curWord1== ' ':\n",
    "        continue\n",
    "    if stop_words.count(curWord1) == 1:\n",
    "        continue\n",
    "    set_JA.add(curWord1)\n",
    "    count_JA+=1\n",
    "    if(curWord1 in map_JA) == False:\n",
    "        map_JA[curWord1] = 1\n",
    "    else:\n",
    "        map_JA[curWord1] = map_JA.get(curWord1)+1\n",
    "\n",
    "TotalUniqueWord = len(set_AC) + len(set_JA)"
   ]
  },
  {
   "cell_type": "code",
   "execution_count": 9,
   "metadata": {},
   "outputs": [],
   "source": [
    "for key in map_AC:\n",
    "    conditional_prob_AC = (map_AC.get(key)+1)/(count_AC+TotalUniqueWord)\n",
    "    dict_AC[\"word\"].append(key)\n",
    "    dict_AC[\"# of Occurrences of Word in AC\"].append(map_AC.get(key))\n",
    "    dict_AC[\"Total Words in AC\"].append(count_AC)\n",
    "    dict_AC[\"Conditional Probability of Given Word in AC\"].append(conditional_prob_AC)\n",
    "    dict_AC[\"# of Total Unique Words in All Documents\"].append(TotalUniqueWord)\n",
    "    \n",
    "for key1 in map_JA:\n",
    "    conditional_prob_JA = (map_JA.get(key1)+1)/(count_JA+TotalUniqueWord)\n",
    "    dict_JA[\"word1\"].append(key1)\n",
    "    dict_JA[\"# of Occurrences of Word in JA\"].append(map_JA.get(key1))\n",
    "    dict_JA[\"Total Words in JA\"].append(count_JA)\n",
    "    dict_JA[\"Conditional Probability of Given Word in JA\"].append(conditional_prob_JA)\n",
    "    dict_JA[\"# of Total Unique Words in All Documents\"].append(TotalUniqueWord)"
   ]
  },
  {
   "cell_type": "code",
   "execution_count": 10,
   "metadata": {},
   "outputs": [],
   "source": [
    "#deal with the test dataset"
   ]
  },
  {
   "cell_type": "code",
   "execution_count": 11,
   "metadata": {},
   "outputs": [],
   "source": [
    "prob_AC_AC = 0\n",
    "prob_AC_JA = 0\n",
    "prob_JA_AC = 0\n",
    "prob_JA_JA = 0"
   ]
  },
  {
   "cell_type": "code",
   "execution_count": 12,
   "metadata": {},
   "outputs": [],
   "source": [
    "for val in test_word_AC:\n",
    "    if dict_AC[\"word\"].count(val) == 1:\n",
    "        pos = dict_AC[\"word\"].index(val)\n",
    "        prob_AC_AC += np.log(dict_AC[\"Conditional Probability of Given Word in AC\"][pos])\n",
    "    else:\n",
    "        prob_AC_AC += np.log(1/(count_AC+TotalUniqueWord))\n",
    "        \n",
    "prob_AC_AC += np.log(0.5) \n",
    "\n",
    "for val1 in test_word_AC:\n",
    "    if dict_JA[\"word1\"].count(val1) == 1:\n",
    "        pos1 = dict_JA[\"word1\"].index(val1)\n",
    "        prob_AC_JA += np.log(dict_JA[\"Conditional Probability of Given Word in JA\"][pos1])\n",
    "    else:\n",
    "        prob_AC_JA += np.log(1/(count_JA+TotalUniqueWord))\n",
    "prob_AC_JA += np.log(0.5)\n",
    "\n",
    "for val2 in test_word_JA:\n",
    "    if dict_AC[\"word\"].count(val2) == 1:\n",
    "        pos2 = dict_AC[\"word\"].index(val2)\n",
    "        prob_JA_AC += np.log(dict_AC[\"Conditional Probability of Given Word in AC\"][pos2])\n",
    "    else:\n",
    "        prob_JA_AC += np.log(1/(count_AC+TotalUniqueWord))\n",
    "prob_JA_AC += np.log(0.5)\n",
    "\n",
    "for val3 in test_word_JA:\n",
    "    if dict_JA[\"word1\"].count(val3) == 1:\n",
    "        pos3 = dict_JA[\"word1\"].index(val3)\n",
    "        prob_JA_JA += np.log(dict_JA[\"Conditional Probability of Given Word in JA\"][pos3])\n",
    "    else:\n",
    "        prob_JA_JA += np.log(1/(count_JA+TotalUniqueWord))\n",
    "prob_JA_JA += np.log(0.5)"
   ]
  },
  {
   "cell_type": "code",
   "execution_count": 13,
   "metadata": {},
   "outputs": [
    {
     "data": {
      "text/plain": [
       "-913973.5173669094"
      ]
     },
     "execution_count": 13,
     "metadata": {},
     "output_type": "execute_result"
    }
   ],
   "source": [
    "prob_AC_AC"
   ]
  },
  {
   "cell_type": "code",
   "execution_count": 14,
   "metadata": {},
   "outputs": [
    {
     "data": {
      "text/plain": [
       "-962568.1581061755"
      ]
     },
     "execution_count": 14,
     "metadata": {},
     "output_type": "execute_result"
    }
   ],
   "source": [
    "prob_AC_JA"
   ]
  },
  {
   "cell_type": "code",
   "execution_count": 15,
   "metadata": {
    "scrolled": true
   },
   "outputs": [
    {
     "data": {
      "text/plain": [
       "-6752170.477200003"
      ]
     },
     "execution_count": 15,
     "metadata": {},
     "output_type": "execute_result"
    }
   ],
   "source": [
    "prob_JA_AC"
   ]
  },
  {
   "cell_type": "code",
   "execution_count": 16,
   "metadata": {
    "scrolled": true
   },
   "outputs": [
    {
     "data": {
      "text/plain": [
       "-7013103.644084475"
      ]
     },
     "execution_count": 16,
     "metadata": {},
     "output_type": "execute_result"
    }
   ],
   "source": [
    "prob_JA_JA"
   ]
  },
  {
   "cell_type": "code",
   "execution_count": 17,
   "metadata": {},
   "outputs": [],
   "source": [
    "# Tset using 10 words sentence"
   ]
  },
  {
   "cell_type": "code",
   "execution_count": 18,
   "metadata": {},
   "outputs": [],
   "source": [
    "test_AC = \"I had seen little of Holmes lately. My marriage had drifted us away from each other. \"\n",
    "test_JA = \"Then followed the history and rise of the ancient and respectable family, in the usual terms; how it had been first settled in Cheshire;\"\n",
    "test_AC = test_AC.split(' ')\n",
    "test_JA = test_JA.split(' ')"
   ]
  },
  {
   "cell_type": "code",
   "execution_count": 19,
   "metadata": {},
   "outputs": [],
   "source": [
    "prob_ACAC =1\n",
    "for val4 in test_AC:\n",
    "    if dict_AC[\"word\"].count(val4) == 1:\n",
    "        pos4 = dict_AC[\"word\"].index(val4)\n",
    "        prob_ACAC *= dict_AC[\"Conditional Probability of Given Word in AC\"][pos4]\n",
    "    else:\n",
    "        prob_ACAC *= 1/(count_AC+TotalUniqueWord)\n",
    "prob_ACAC *= 0.5"
   ]
  },
  {
   "cell_type": "code",
   "execution_count": 20,
   "metadata": {},
   "outputs": [
    {
     "data": {
      "text/plain": [
       "9.773467028492163e-59"
      ]
     },
     "execution_count": 20,
     "metadata": {},
     "output_type": "execute_result"
    }
   ],
   "source": [
    "prob_ACAC"
   ]
  },
  {
   "cell_type": "code",
   "execution_count": 25,
   "metadata": {},
   "outputs": [],
   "source": [
    "prob_ACJA =1\n",
    "for val5 in test_AC:\n",
    "    if dict_JA[\"word1\"].count(val5) == 1:\n",
    "        pos5 = dict_JA[\"word1\"].index(val5)\n",
    "        prob_ACJA *= dict_JA[\"Conditional Probability of Given Word in JA\"][pos5]\n",
    "    else:\n",
    "        prob_ACJA *= 1/(count_JA+TotalUniqueWord)\n",
    "prob_ACJA *= 0.5"
   ]
  },
  {
   "cell_type": "code",
   "execution_count": 26,
   "metadata": {},
   "outputs": [
    {
     "data": {
      "text/plain": [
       "2.131075667653518e-62"
      ]
     },
     "execution_count": 26,
     "metadata": {},
     "output_type": "execute_result"
    }
   ],
   "source": [
    "prob_ACJA"
   ]
  },
  {
   "cell_type": "code",
   "execution_count": 27,
   "metadata": {},
   "outputs": [
    {
     "name": "stdout",
     "output_type": "stream",
     "text": [
      "True\n"
     ]
    }
   ],
   "source": [
    "print(prob_ACAC > prob_ACJA)"
   ]
  },
  {
   "cell_type": "code",
   "execution_count": 28,
   "metadata": {},
   "outputs": [],
   "source": [
    "prob_JAAC =1\n",
    "for val6 in test_JA:\n",
    "    if dict_AC[\"word\"].count(val6) == 1:\n",
    "        pos4 = dict_AC[\"word\"].index(val4)\n",
    "        prob_JAAC *= dict_AC[\"Conditional Probability of Given Word in AC\"][pos4]\n",
    "    else:\n",
    "        prob_JAAC *= 1/(count_AC+TotalUniqueWord)\n",
    "prob_JAAC *= 0.5"
   ]
  },
  {
   "cell_type": "code",
   "execution_count": 29,
   "metadata": {},
   "outputs": [
    {
     "data": {
      "text/plain": [
       "3.431466031031716e-86"
      ]
     },
     "execution_count": 29,
     "metadata": {},
     "output_type": "execute_result"
    }
   ],
   "source": [
    "prob_JAAC"
   ]
  },
  {
   "cell_type": "code",
   "execution_count": null,
   "metadata": {},
   "outputs": [],
   "source": [
    "prob_ACJA =1\n",
    "for val5 in test_:\n",
    "    if dict_JA[\"word1\"].count(val5) == 1:\n",
    "        pos5 = dict_JA[\"word1\"].index(val5)\n",
    "        prob_ACJA *= dict_JA[\"Conditional Probability of Given Word in JA\"][pos5]\n",
    "    else:\n",
    "        prob_ACJA *= 1/(count_JA+TotalUniqueWord)\n",
    "prob_ACJA *= 0.5"
   ]
  },
  {
   "cell_type": "code",
   "execution_count": null,
   "metadata": {},
   "outputs": [],
   "source": [
    "# Report"
   ]
  },
  {
   "cell_type": "code",
   "execution_count": null,
   "metadata": {},
   "outputs": [],
   "source": [
    "# 1 i split the text by space, so i get a array of each words\n",
    "# 2 i use 80% as train, and 20% as test dataset\n",
    "# 3 for two text, i buiild two table for them, which each table contains the columns of \"word\",\"# of Occurrences of Word in AC\",\"Total Words in AC\",\"Conditional Probability of Given Word in AC\",\"# of Total Unique Words in All Documents\"\n",
    "#   for the conditional probability is (ouucrrences+1)/(Total Words in text +Total Unique Words in All Documents ), and add one is to avoid\n",
    "#   the condition of 0/0\n",
    "# 4 i also build a stop_word array, which i think stop_word is useless for predicting\n",
    "# 5 using test dataset to predict the probability, beacuse the conditional probality is too small, so if i make this small probability times\n",
    "#   so many times, i will underflow, so i use np.log and add all of them, finally i compare which one is bigger, so the auther is belongs to the bigger probability\n",
    "# 6 return the result"
   ]
  }
 ],
 "metadata": {
  "kernelspec": {
   "display_name": "Python 3",
   "language": "python",
   "name": "python3"
  },
  "language_info": {
   "codemirror_mode": {
    "name": "ipython",
    "version": 3
   },
   "file_extension": ".py",
   "mimetype": "text/x-python",
   "name": "python",
   "nbconvert_exporter": "python",
   "pygments_lexer": "ipython3",
   "version": "3.6.4"
  }
 },
 "nbformat": 4,
 "nbformat_minor": 2
}
