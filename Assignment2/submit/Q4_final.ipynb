{
 "cells": [
  {
   "cell_type": "code",
   "execution_count": 1,
   "metadata": {},
   "outputs": [],
   "source": [
    "import pandas as pd\n",
    "import numpy as np\n",
    "from sklearn import preprocessing\n",
    "from numpy import linalg as LA\n",
    "from matplotlib import pyplot as plt\n",
    "import seaborn as sns"
   ]
  },
  {
   "cell_type": "code",
   "execution_count": 2,
   "metadata": {},
   "outputs": [],
   "source": [
    "data = pd.read_csv('C:\\\\Users\\\\WesleyZhou\\\\Desktop\\\\CS559\\\\Assignment2\\\\iris.txt', header = None)"
   ]
  },
  {
   "cell_type": "code",
   "execution_count": 3,
   "metadata": {},
   "outputs": [],
   "source": [
    "label_encoder = preprocessing.LabelEncoder()\n",
    "label_encoder.fit(data[4])\n",
    "y = label_encoder.transform(data[4])\n",
    "\n",
    "cols = [0,1,2,3]\n",
    "X = data[cols].values"
   ]
  },
  {
   "cell_type": "code",
   "execution_count": 4,
   "metadata": {},
   "outputs": [],
   "source": [
    "def LDA(first,second,X,y):\n",
    "    #mean vectors for 2 classes\n",
    "    mean_vector = []\n",
    "    for i in [first,second]:\n",
    "        mean_vector.append(np.mean(X[y == i],axis = 0))\n",
    "    \n",
    "    #within-class scatter matrix\n",
    "    S_W = np.zeros((4,4))\n",
    "    for classes,mean_vec in zip([first,second], mean_vector):\n",
    "        class_sc_matrix = np.zeros((4,4))\n",
    "        for data in X[y == classes]:\n",
    "            data = data.reshape(4,1)\n",
    "            mean_vec = mean_vec.reshape(4,1)\n",
    "            class_sc_matrix += (data-mean_vec).dot((data-mean_vec).T)\n",
    "        S_W += class_sc_matrix\n",
    "        \n",
    "    for mean_vec in mean_vector:\n",
    "        class_sc_matrix = np.zeros((4,4))\n",
    "        \n",
    "    \n",
    "    #between-class matrix\n",
    "    mean_Class_1 = mean_vector[0].reshape(4,1)\n",
    "    mean_Class_2 = mean_vector[1].reshape(4,1)\n",
    "    \n",
    "#     mean_Class_1 = mean_vector[0].T\n",
    "#     mean_Class_2 = mean_vector[1].T\n",
    "    S_B  = (mean_Class_1-mean_Class_2).dot((mean_Class_1-mean_Class_2).T)\n",
    "    \n",
    "    w = np.linalg.inv(S_W).dot(mean_Class_1-mean_Class_2)\n",
    "    return w"
   ]
  },
  {
   "cell_type": "code",
   "execution_count": 5,
   "metadata": {},
   "outputs": [],
   "source": [
    "w_01 = LDA(0,1,X,y)\n",
    "w_02 = LDA(0,2,X,y)\n",
    "w_03 = LDA(1,2,X,y)"
   ]
  },
  {
   "cell_type": "code",
   "execution_count": 6,
   "metadata": {},
   "outputs": [
    {
     "data": {
      "text/plain": [
       "array([[ 0.0290458 ],\n",
       "       [ 0.1878948 ],\n",
       "       [-0.21665059],\n",
       "       [-0.33254958]])"
      ]
     },
     "execution_count": 6,
     "metadata": {},
     "output_type": "execute_result"
    }
   ],
   "source": [
    "w_01"
   ]
  },
  {
   "cell_type": "code",
   "execution_count": 7,
   "metadata": {},
   "outputs": [
    {
     "data": {
      "text/plain": [
       "array([[ 0.16002388],\n",
       "       [ 0.12571911],\n",
       "       [-0.37116266],\n",
       "       [-0.38078412]])"
      ]
     },
     "execution_count": 7,
     "metadata": {},
     "output_type": "execute_result"
    }
   ],
   "source": [
    "w_02"
   ]
  },
  {
   "cell_type": "code",
   "execution_count": 8,
   "metadata": {},
   "outputs": [
    {
     "data": {
      "text/plain": [
       "array([[ 0.0362888 ],\n",
       "       [ 0.0569247 ],\n",
       "       [-0.07112375],\n",
       "       [-0.12638818]])"
      ]
     },
     "execution_count": 8,
     "metadata": {},
     "output_type": "execute_result"
    }
   ],
   "source": [
    "w_03"
   ]
  },
  {
   "cell_type": "code",
   "execution_count": 9,
   "metadata": {},
   "outputs": [],
   "source": [
    "y_01 = X.dot(w_01) \n",
    "y_02 = X.dot(w_02)\n",
    "y_12 = X.dot(w_03)"
   ]
  },
  {
   "cell_type": "code",
   "execution_count": 10,
   "metadata": {},
   "outputs": [],
   "source": [
    "y_test = np.zeros(150)\n",
    "y_test = y_test.reshape(150,1)"
   ]
  },
  {
   "cell_type": "code",
   "execution_count": 11,
   "metadata": {},
   "outputs": [
    {
     "data": {
      "text/plain": [
       "<matplotlib.collections.PathCollection at 0x15d29a046d8>"
      ]
     },
     "execution_count": 11,
     "metadata": {},
     "output_type": "execute_result"
    },
    {
     "data": {
      "image/png": "[encoded data removed]",
      "text/plain": [
       "<matplotlib.figure.Figure at 0x15d296acef0>"
      ]
     },
     "metadata": {},
     "output_type": "display_data"
    }
   ],
   "source": [
    "colors1 = []\n",
    "for val in y_01:\n",
    "    if val < 0:\n",
    "        colors1.append('red')\n",
    "    else:\n",
    "        colors1.append('green')\n",
    "plt.scatter(x=y_01, y=y_test,c=colors1)"
   ]
  },
  {
   "cell_type": "code",
   "execution_count": 12,
   "metadata": {},
   "outputs": [
    {
     "data": {
      "text/plain": [
       "<matplotlib.collections.PathCollection at 0x15d29a990f0>"
      ]
     },
     "execution_count": 12,
     "metadata": {},
     "output_type": "execute_result"
    },
    {
     "data": {
      "image/png": "[encoded data removed]",
      "text/plain": [
       "<matplotlib.figure.Figure at 0x15d23046be0>"
      ]
     },
     "metadata": {},
     "output_type": "display_data"
    }
   ],
   "source": [
    "colors2 = []\n",
    "for val in y_02:\n",
    "    if val < 0:\n",
    "        colors2.append('red')\n",
    "    else:\n",
    "        colors2.append('green')\n",
    "plt.scatter(x=y_02, y=y_test,c=colors2)"
   ]
  },
  {
   "cell_type": "code",
   "execution_count": 13,
   "metadata": {},
   "outputs": [
    {
     "data": {
      "text/plain": [
       "<matplotlib.collections.PathCollection at 0x15d29afaba8>"
      ]
     },
     "execution_count": 13,
     "metadata": {},
     "output_type": "execute_result"
    },
    {
     "data": {
      "image/png": "[encoded data removed]",
      "text/plain": [
       "<matplotlib.figure.Figure at 0x15d29a6e0b8>"
      ]
     },
     "metadata": {},
     "output_type": "display_data"
    }
   ],
   "source": [
    "colors3 = []\n",
    "for val in y_12:\n",
    "    if val < 0:\n",
    "        colors3.append('red')\n",
    "    else:\n",
    "        colors3.append('green')\n",
    "plt.scatter(x=y_12, y=y_test,c=colors3)"
   ]
  },
  {
   "cell_type": "code",
   "execution_count": null,
   "metadata": {},
   "outputs": [],
   "source": [
    "# Report"
   ]
  },
  {
   "cell_type": "code",
   "execution_count": null,
   "metadata": {},
   "outputs": [],
   "source": [
    "# 1 i need to encode the class into 0,1,2 which represent the three classes\n",
    "# 2 i choose each pair of the classes and calculate the mean with correponding features\n",
    "# 3 i use mean of two class to calculate the within class scatter matrix and between class scatter matrix\n",
    "# 4 i use inversed within class scatter matrix and mean of two class to calculate the w of each pair of classes\n",
    "# 5 the plot shows the distribution of separated dataset based on corresponding w"
   ]
  }
 ],
 "metadata": {
  "kernelspec": {
   "display_name": "Python 3",
   "language": "python",
   "name": "python3"
  },
  "language_info": {
   "codemirror_mode": {
    "name": "ipython",
    "version": 3
   },
   "file_extension": ".py",
   "mimetype": "text/x-python",
   "name": "python",
   "nbconvert_exporter": "python",
   "pygments_lexer": "ipython3",
   "version": "3.6.4"
  }
 },
 "nbformat": 4,
 "nbformat_minor": 2
}
