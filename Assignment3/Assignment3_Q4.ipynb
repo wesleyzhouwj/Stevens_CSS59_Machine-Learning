{
 "cells": [
  {
   "cell_type": "code",
   "execution_count": 1,
   "metadata": {},
   "outputs": [],
   "source": [
    "import pandas as pd\n",
    "import numpy as np\n",
    "from matplotlib import pyplot as plt\n",
    "from sklearn.ensemble import AdaBoostClassifier\n",
    "from sklearn.tree import DecisionTreeClassifier\n",
    "from sklearn.model_selection import train_test_split\n",
    "from sklearn.metrics import zero_one_loss"
   ]
  },
  {
   "cell_type": "markdown",
   "metadata": {},
   "source": [
    "# Introduction\n",
    "for this question, first i use the adaboostclassifier with decisionTreeClassifier to get the result plot, because for this method, i will automatically update the sample weight.\n",
    "for the next Step, i will calculate the sample weight and update step by step, and compare the two plot"
   ]
  },
  {
   "cell_type": "markdown",
   "metadata": {},
   "source": [
    "This is for getting data from the csv file"
   ]
  },
  {
   "cell_type": "code",
   "execution_count": 2,
   "metadata": {},
   "outputs": [],
   "source": [
    "data = pd.read_csv('C:\\\\Users\\\\WesleyZhou\\\\Desktop\\\\CS559\\\\Assignment3\\\\banana_data.csv',header = None)"
   ]
  },
  {
   "cell_type": "markdown",
   "metadata": {},
   "source": [
    "X is the 1 and 2 column of the original dataset"
   ]
  },
  {
   "cell_type": "code",
   "execution_count": 3,
   "metadata": {},
   "outputs": [],
   "source": [
    "col = [1,2]\n",
    "X = data[col].values\n",
    "y = data[0].values"
   ]
  },
  {
   "cell_type": "markdown",
   "metadata": {},
   "source": [
    "Using tran_test_split to get the tran and test dataset"
   ]
  },
  {
   "cell_type": "code",
   "execution_count": 4,
   "metadata": {},
   "outputs": [],
   "source": [
    "X_train,X_test,y_train,y_test = train_test_split(X,y,test_size = 0.3)"
   ]
  },
  {
   "cell_type": "markdown",
   "metadata": {},
   "source": [
    "For this i define a dadboostclassifier using decisiontree as base estimator with depth of 3, and n_estimators = 10 which means the estimator model number"
   ]
  },
  {
   "cell_type": "code",
   "execution_count": 5,
   "metadata": {},
   "outputs": [],
   "source": [
    "clf = AdaBoostClassifier(DecisionTreeClassifier(max_depth = 3),n_estimators=10,learning_rate=1,algorithm = 'SAMME.R')"
   ]
  },
  {
   "cell_type": "markdown",
   "metadata": {},
   "source": [
    "I use the fit method for the X_train and y_train to train the adaboost model"
   ]
  },
  {
   "cell_type": "code",
   "execution_count": 6,
   "metadata": {
    "scrolled": true
   },
   "outputs": [
    {
     "data": {
      "text/plain": [
       "AdaBoostClassifier(algorithm='SAMME.R',\n",
       "          base_estimator=DecisionTreeClassifier(class_weight=None, criterion='gini', max_depth=3,\n",
       "            max_features=None, max_leaf_nodes=None,\n",
       "            min_impurity_decrease=0.0, min_impurity_split=None,\n",
       "            min_samples_leaf=1, min_samples_split=2,\n",
       "            min_weight_fraction_leaf=0.0, presort=False, random_state=None,\n",
       "            splitter='best'),\n",
       "          learning_rate=1, n_estimators=10, random_state=None)"
      ]
     },
     "execution_count": 6,
     "metadata": {},
     "output_type": "execute_result"
    }
   ],
   "source": [
    "clf.fit(X_train,y_train)"
   ]
  },
  {
   "cell_type": "markdown",
   "metadata": {},
   "source": [
    "For this step, \n",
    "1. i will calculate the error of 10 weak adaboost models, i build two np array for test dataset error and train dataset error\n",
    "2. i use the staged_predict method from sklearn to get the error of each weak adaboost classifer"
   ]
  },
  {
   "cell_type": "code",
   "execution_count": 7,
   "metadata": {},
   "outputs": [],
   "source": [
    "adaboost_test_error = np.zeros(10)\n",
    "for i,y_test_pred in enumerate(clf.staged_predict(X_test)):\n",
    "    adaboost_test_error[i] = zero_one_loss(y_test_pred,y_test)\n",
    "    \n",
    "adaboost_train_error = np.zeros(10)\n",
    "for j,y_train_pred in enumerate(clf.staged_predict(X_train)):\n",
    "    adaboost_train_error[j] = zero_one_loss(y_train_pred,y_train)"
   ]
  },
  {
   "cell_type": "markdown",
   "metadata": {},
   "source": [
    "For this step, i will use a plot to show the train and test error of my adaboost classifier\n",
    "1. i use the plt\n",
    "2. i plot both the train and test error using the error data which i already stored in \"adaboost_test_error\" and \"adaboost_train_error\" \n",
    "3. add the x-axis and y-axis label \n",
    "4. using plot.show() to show the plot"
   ]
  },
  {
   "cell_type": "code",
   "execution_count": 8,
   "metadata": {},
   "outputs": [
    {
     "data": {
      "image/png": "[encoded data removed]",
      "text/plain": [
       "<matplotlib.figure.Figure at 0x2768410b2e8>"
      ]
     },
     "metadata": {},
     "output_type": "display_data"
    }
   ],
   "source": [
    "fig=plt.figure()\n",
    "ax=fig.add_subplot(111)\n",
    "ax.plot(np.arange(10)+1,adaboost_test_error,label = 'adaboost test error',color ='red')\n",
    "ax.plot(np.arange(10)+1,adaboost_train_error,label = 'adaboost train error',color = 'blue')\n",
    "ax.set_ylim((0.0,0.25))\n",
    "ax.set_xlabel('n_estimators')\n",
    "ax.set_ylabel('error rate')\n",
    "leg=ax.legend(loc='upper right',fancybox=True)\n",
    "plt.show()"
   ]
  },
  {
   "cell_type": "code",
   "execution_count": 9,
   "metadata": {},
   "outputs": [
    {
     "data": {
      "text/plain": [
       "array([0.18733154, 0.13719677, 0.13557951, 0.14393531, 0.11563342,\n",
       "       0.11347709, 0.10053908, 0.10188679, 0.10350404, 0.10215633])"
      ]
     },
     "execution_count": 9,
     "metadata": {},
     "output_type": "execute_result"
    }
   ],
   "source": [
    "adaboost_train_error"
   ]
  },
  {
   "cell_type": "markdown",
   "metadata": {},
   "source": [
    "# Previous method just use the AdaBoostClassifier with decisionTreeClassifier as estimator, and then i gonna calculate the error and update the sample weight by hand(step by step)"
   ]
  },
  {
   "cell_type": "markdown",
   "metadata": {},
   "source": [
    "Get the decisionTreeClassifier with max_depth = 3"
   ]
  },
  {
   "cell_type": "code",
   "execution_count": 10,
   "metadata": {},
   "outputs": [],
   "source": [
    "clfDT = DecisionTreeClassifier(max_depth = 3)"
   ]
  },
  {
   "cell_type": "code",
   "execution_count": 11,
   "metadata": {},
   "outputs": [],
   "source": [
    "train_error = []\n",
    "test_error = []\n",
    "clf_models = []"
   ]
  },
  {
   "cell_type": "markdown",
   "metadata": {},
   "source": [
    "# Round 1\n",
    "initial the sample weight with 1/positive number for postive y value, and 1/negative for negative y value, So in for loop i first calculate the total number positive and negaive y value and update the the weight sample array which will use in the decisionTreeClassifier fit method"
   ]
  },
  {
   "cell_type": "code",
   "execution_count": 12,
   "metadata": {},
   "outputs": [],
   "source": [
    "positive = 0\n",
    "negative = 0\n",
    "weight1 = []\n",
    "for i in range(len(y_train)):\n",
    "    weight1.append(1/len(y_train))"
   ]
  },
  {
   "cell_type": "code",
   "execution_count": 13,
   "metadata": {},
   "outputs": [],
   "source": [
    "clfDT.fit(X_train,y_train,sample_weight = weight1)\n",
    "clfDT1 = clfDT"
   ]
  },
  {
   "cell_type": "markdown",
   "metadata": {},
   "source": [
    "After we fit the model, we need to calculate the error and update the sample weight"
   ]
  },
  {
   "cell_type": "code",
   "execution_count": 14,
   "metadata": {},
   "outputs": [],
   "source": [
    "round1_y_train = clfDT.predict(X_train)\n",
    "# test_error.append(zero_one_loss(clfDT.predict(X_test),y_test))\n",
    "# round1_y_test = clfDT.predict(X_test)"
   ]
  },
  {
   "cell_type": "code",
   "execution_count": 15,
   "metadata": {},
   "outputs": [],
   "source": [
    "round1_error_index_train = []\n",
    "count1 = 0\n",
    "# round1_error_index_test = []\n",
    "for i in range(len(round1_y_train)):\n",
    "    if(round1_y_train[i] != y_train[i]):\n",
    "        round1_error_index_train.append(i)\n",
    "        count1+=1\n",
    "# for j in range(len(round1_y_test)):\n",
    "#     if(round1_y_test[j] != y_test[j]):\n",
    "#         round1_error_index_test.append(j)"
   ]
  },
  {
   "cell_type": "code",
   "execution_count": 16,
   "metadata": {},
   "outputs": [],
   "source": [
    "# calculate the error of round 1\n",
    "error1_train = 0\n",
    "total_train1 = np.array(weight1).sum()\n",
    "error1_test = 0\n",
    "for i in range(len(round1_error_index_train)):\n",
    "    curPos = round1_error_index_train[i]\n",
    "    error1_train += weight1[curPos]\n",
    "error1_train = error1_train/total_train1\n",
    "\n",
    "# for j in range(len(round1_error_index_test)):\n",
    "#     curPos = round1_error_index_test[j]\n",
    "#     error1_test += weight"
   ]
  },
  {
   "cell_type": "markdown",
   "metadata": {},
   "source": [
    "Get the estimator weight of round 1 weak estimator"
   ]
  },
  {
   "cell_type": "code",
   "execution_count": 17,
   "metadata": {},
   "outputs": [],
   "source": [
    "estimator_weight1 = 0.5 * np.log((1 - error1_train)/error1_train)"
   ]
  },
  {
   "cell_type": "markdown",
   "metadata": {},
   "source": [
    "update the sample wegiht with new weight"
   ]
  },
  {
   "cell_type": "code",
   "execution_count": 18,
   "metadata": {},
   "outputs": [],
   "source": [
    "# for i in range(len(round1_error_index_train)):\n",
    "#     weight1[i] = weight1[round1_error_index_train[i]]* (1.0 - error1_train)/error1_train\n",
    "for i in range(len(weight1)):\n",
    "    weight1[i] = weight1[i] * np.exp(-estimator_weight1 * y_train[i] * round1_y_train[i]) /total_train1"
   ]
  },
  {
   "cell_type": "code",
   "execution_count": 19,
   "metadata": {},
   "outputs": [],
   "source": [
    "train_error.append(zero_one_loss(round1_y_train,y_train))\n",
    "test_error.append(zero_one_loss(clfDT.predict(X_test),y_test))"
   ]
  },
  {
   "cell_type": "markdown",
   "metadata": {},
   "source": [
    "# Round 2"
   ]
  },
  {
   "cell_type": "code",
   "execution_count": 20,
   "metadata": {},
   "outputs": [],
   "source": [
    "# total_train2 = np.array(weight1).sum()\n",
    "weight2 = weight1"
   ]
  },
  {
   "cell_type": "code",
   "execution_count": 21,
   "metadata": {},
   "outputs": [],
   "source": [
    "clfDT2 = DecisionTreeClassifier(max_depth = 3)"
   ]
  },
  {
   "cell_type": "code",
   "execution_count": 22,
   "metadata": {},
   "outputs": [
    {
     "data": {
      "text/plain": [
       "DecisionTreeClassifier(class_weight=None, criterion='gini', max_depth=3,\n",
       "            max_features=None, max_leaf_nodes=None,\n",
       "            min_impurity_decrease=0.0, min_impurity_split=None,\n",
       "            min_samples_leaf=1, min_samples_split=2,\n",
       "            min_weight_fraction_leaf=0.0, presort=False, random_state=None,\n",
       "            splitter='best')"
      ]
     },
     "execution_count": 22,
     "metadata": {},
     "output_type": "execute_result"
    }
   ],
   "source": [
    "clfDT2.fit(X_train,y_train,sample_weight = weight2)"
   ]
  },
  {
   "cell_type": "code",
   "execution_count": 23,
   "metadata": {},
   "outputs": [],
   "source": [
    "round2_y_train = clfDT2.predict(X_train)\n",
    "# round2_y_test = clfDT2.predict(X_test)"
   ]
  },
  {
   "cell_type": "code",
   "execution_count": 24,
   "metadata": {},
   "outputs": [],
   "source": [
    "round2_error_index_train = []\n",
    "count2 = 0\n",
    "# round1_error_index_test = []\n",
    "for i in range(len(round2_y_train)):\n",
    "    if(round2_y_train[i] != y_train[i]):\n",
    "        round2_error_index_train.append(i)\n",
    "        count2+=1"
   ]
  },
  {
   "cell_type": "code",
   "execution_count": 25,
   "metadata": {},
   "outputs": [],
   "source": [
    "# calculate the error of round 2\n",
    "error2_train = 0\n",
    "total_train2 = np.array(weight2).sum()\n",
    "error2_test = 0\n",
    "for i in range(len(round2_error_index_train)):\n",
    "    curPos = round2_error_index_train[i]\n",
    "    error2_train += weight2[curPos]\n",
    "error2_train = error2_train/total_train2"
   ]
  },
  {
   "cell_type": "code",
   "execution_count": 26,
   "metadata": {},
   "outputs": [],
   "source": [
    "estimator_weight2 = 0.5 * np.log((1 - error2_train)/error2_train)"
   ]
  },
  {
   "cell_type": "code",
   "execution_count": 27,
   "metadata": {},
   "outputs": [],
   "source": [
    "# for i in range(len(round2_error_index_train)):\n",
    "#     weight2[i] = weight2[round2_error_index_train[i]]* (1.0 - error2_train)/error2_train\n",
    "for i in range(len(weight2)):\n",
    "    weight2[i] = weight2[i] * np.exp(-estimator_weight2 * y_train[i] * round2_y_train[i]) /total_train2"
   ]
  },
  {
   "cell_type": "markdown",
   "metadata": {},
   "source": [
    "# For model we need to combine the round 1 model and round2 model, and using the new model to predict the result and  calculate the error, all the steps from 3 to 10 is follow the same method of round2"
   ]
  },
  {
   "cell_type": "code",
   "execution_count": 28,
   "metadata": {},
   "outputs": [],
   "source": [
    "round2_model_result = clfDT.predict(X_train)*estimator_weight1+clfDT2.predict(X_train)*estimator_weight2\n",
    "result2=[1 if i>=0 else -1 for i in round2_model_result]\n",
    "\n",
    "round2_model_result_test = clfDT.predict(X_test)*estimator_weight1+clfDT2.predict(X_test)*estimator_weight2\n",
    "result2_test=[1 if i>=0 else -1 for i in round2_model_result_test]"
   ]
  },
  {
   "cell_type": "code",
   "execution_count": 29,
   "metadata": {},
   "outputs": [],
   "source": [
    "train_error.append(zero_one_loss(result2,y_train))\n",
    "test_error.append(zero_one_loss(result2_test,y_test))"
   ]
  },
  {
   "cell_type": "markdown",
   "metadata": {},
   "source": [
    "# Round 3"
   ]
  },
  {
   "cell_type": "code",
   "execution_count": 30,
   "metadata": {},
   "outputs": [],
   "source": [
    "# total_train3 = np.array(weight2).sum()\n",
    "weight3 = weight2\n",
    "\n",
    "clfDT3 = DecisionTreeClassifier(max_depth = 3)\n",
    "clfDT3.fit(X_train,y_train,sample_weight = weight3)\n",
    "\n",
    "round3_y_train = clfDT3.predict(X_train)\n",
    "# test_error.append(zero_one_loss(clfDT3.predict(X_test),y_test))\n",
    "\n",
    "round3_error_index_train = []\n",
    "count3 = 0\n",
    "# round1_error_index_test = []\n",
    "for i in range(len(round3_y_train)):\n",
    "    if(round3_y_train[i] != y_train[i]):\n",
    "        round3_error_index_train.append(i)\n",
    "        count3+=1\n",
    "        \n",
    "# calculate the error of round 3\n",
    "error3_train = 0\n",
    "total_train3 = np.array(weight3).sum()\n",
    "error3_test = 0\n",
    "for i in range(len(round3_error_index_train)):\n",
    "    curPos = round3_error_index_train[i]\n",
    "    error3_train += weight3[curPos]\n",
    "error3_train = error3_train/total_train3\n",
    "\n",
    "#estimator 3\n",
    "estimator_weight3 = 0.5 * np.log((1 - error3_train)/error3_train)\n",
    "\n",
    "# update weight\n",
    "for i in range(len(weight3)):\n",
    "    weight3[i] = weight3[i] * np.exp(-estimator_weight3 * y_train[i] * round3_y_train[i]) /total_train3"
   ]
  },
  {
   "cell_type": "code",
   "execution_count": 31,
   "metadata": {},
   "outputs": [],
   "source": [
    "round3_model_result = clfDT.predict(X_train)*estimator_weight1+clfDT2.predict(X_train)*estimator_weight2 + clfDT3.predict(X_train)*estimator_weight3\n",
    "result3=[1 if i>=0 else -1 for i in round2_model_result]\n",
    "\n",
    "round3_model_result_test = clfDT.predict(X_test)*estimator_weight1+clfDT2.predict(X_test)*estimator_weight2 + clfDT3.predict(X_test)*estimator_weight3\n",
    "result3_test=[1 if i>=0 else -1 for i in round3_model_result_test]"
   ]
  },
  {
   "cell_type": "code",
   "execution_count": 32,
   "metadata": {},
   "outputs": [],
   "source": [
    "train_error.append(zero_one_loss(result3,y_train))\n",
    "test_error.append(zero_one_loss(result3_test,y_test))"
   ]
  },
  {
   "cell_type": "markdown",
   "metadata": {},
   "source": [
    "# Round 4"
   ]
  },
  {
   "cell_type": "code",
   "execution_count": 33,
   "metadata": {},
   "outputs": [],
   "source": [
    "# total_train4 = np.array(weight3).sum()\n",
    "weight4 = weight3\n",
    "\n",
    "clfDT4 = DecisionTreeClassifier(max_depth = 3)\n",
    "clfDT4.fit(X_train,y_train,sample_weight = weight4)\n",
    "\n",
    "round4_y_train = clfDT4.predict(X_train)\n",
    "# test_error.append(zero_one_loss(clfDT4.predict(X_test),y_test))\n",
    "\n",
    "round4_error_index_train = []\n",
    "count4 = 0\n",
    "# round1_error_index_test = []\n",
    "for i in range(len(round4_y_train)):\n",
    "    if(round4_y_train[i] != y_train[i]):\n",
    "        round4_error_index_train.append(i)\n",
    "        count4+=1\n",
    "        \n",
    "# calculate the error of round 4\n",
    "error4_train = 0\n",
    "total_train4 = np.array(weight4).sum()\n",
    "error4_test = 0\n",
    "for i in range(len(round4_error_index_train)):\n",
    "    curPos = round4_error_index_train[i]\n",
    "    error4_train += weight4[curPos]\n",
    "error4_train = error4_train/total_train4\n",
    "\n",
    "#estimator 4\n",
    "estimator_weight4 = 0.5 * np.log((1 - error4_train)/error4_train)\n",
    "\n",
    "# update weight\n",
    "for i in range(len(weight4)):\n",
    "    weight4[i] = weight4[i] * np.exp(-estimator_weight4 * y_train[i] * round4_y_train[i]) /total_train4"
   ]
  },
  {
   "cell_type": "code",
   "execution_count": 34,
   "metadata": {},
   "outputs": [],
   "source": [
    "round4_model_result = clfDT.predict(X_train)*estimator_weight1+clfDT2.predict(X_train)*estimator_weight2 + clfDT3.predict(X_train)*estimator_weight3+ clfDT4.predict(X_train)*estimator_weight4\n",
    "result4=[1 if i>=0 else -1 for i in round4_model_result]\n",
    "\n",
    "round4_model_result_test = clfDT.predict(X_test)*estimator_weight1+clfDT2.predict(X_test)*estimator_weight2 + clfDT3.predict(X_test)*estimator_weight3+ clfDT4.predict(X_test)*estimator_weight4\n",
    "result4_test=[1 if i>=0 else -1 for i in round4_model_result_test]"
   ]
  },
  {
   "cell_type": "code",
   "execution_count": 35,
   "metadata": {},
   "outputs": [],
   "source": [
    "train_error.append(zero_one_loss(result4,y_train))\n",
    "test_error.append(zero_one_loss(result4_test,y_test))"
   ]
  },
  {
   "cell_type": "markdown",
   "metadata": {},
   "source": [
    "# Round 5"
   ]
  },
  {
   "cell_type": "code",
   "execution_count": 36,
   "metadata": {},
   "outputs": [],
   "source": [
    "weight5 = weight4\n",
    "\n",
    "clfDT5 = DecisionTreeClassifier(max_depth = 3)\n",
    "clfDT5.fit(X_train,y_train,sample_weight = weight5)\n",
    "\n",
    "round5_y_train = clfDT5.predict(X_train)\n",
    "# test_error.append(zero_one_loss(clfDT5.predict(X_test),y_test))\n",
    "\n",
    "round5_error_index_train = []\n",
    "count5 = 0\n",
    "# round1_error_index_test = []\n",
    "for i in range(len(round5_y_train)):\n",
    "    if(round5_y_train[i] != y_train[i]):\n",
    "        round5_error_index_train.append(i)\n",
    "        count5+=1\n",
    "        \n",
    "# calculate the error of round 5\n",
    "error5_train = 0\n",
    "total_train5 = np.array(weight5).sum()\n",
    "error5_test = 0\n",
    "for i in range(len(round5_error_index_train)):\n",
    "    curPos = round5_error_index_train[i]\n",
    "    error5_train += weight5[curPos]\n",
    "error5_train = error5_train/total_train5\n",
    "\n",
    "#estimator 5\n",
    "estimator_weight5 = 0.5 * np.log((1 - error5_train)/error5_train)\n",
    "\n",
    "# update weight\n",
    "for i in range(len(weight5)):\n",
    "    weight5[i] = weight5[i] * np.exp(-estimator_weight5 * y_train[i] * round5_y_train[i]) /total_train5"
   ]
  },
  {
   "cell_type": "code",
   "execution_count": 37,
   "metadata": {},
   "outputs": [],
   "source": [
    "round5_model_result = clfDT.predict(X_train)*estimator_weight1+clfDT2.predict(X_train)*estimator_weight2 + clfDT3.predict(X_train)*estimator_weight3 + clfDT4.predict(X_train)*estimator_weight4 + clfDT5.predict(X_train)*estimator_weight5\n",
    "result5=[1 if i>=0 else -1 for i in round5_model_result]\n",
    "\n",
    "round5_model_result_test = clfDT.predict(X_test)*estimator_weight1+clfDT2.predict(X_test)*estimator_weight2 + clfDT3.predict(X_test)*estimator_weight3 + clfDT4.predict(X_test)*estimator_weight4 + clfDT5.predict(X_test)*estimator_weight5\n",
    "result5_test=[1 if i>=0 else -1 for i in round5_model_result_test]"
   ]
  },
  {
   "cell_type": "code",
   "execution_count": 38,
   "metadata": {},
   "outputs": [],
   "source": [
    "train_error.append(zero_one_loss(result5,y_train))\n",
    "test_error.append(zero_one_loss(result5_test,y_test))"
   ]
  },
  {
   "cell_type": "markdown",
   "metadata": {},
   "source": [
    "# Round 6"
   ]
  },
  {
   "cell_type": "code",
   "execution_count": 39,
   "metadata": {},
   "outputs": [],
   "source": [
    "weight6 = weight5\n",
    "\n",
    "clfDT6 = DecisionTreeClassifier(max_depth = 3)\n",
    "clfDT6.fit(X_train,y_train,sample_weight = weight6)\n",
    "\n",
    "round6_y_train = clfDT6.predict(X_train)\n",
    "# test_error.append(zero_one_loss(clfDT6.predict(X_test),y_test))\n",
    "\n",
    "round6_error_index_train = []\n",
    "count6 = 0\n",
    "# round1_error_index_test = []\n",
    "for i in range(len(round6_y_train)):\n",
    "    if(round6_y_train[i] != y_train[i]):\n",
    "        round6_error_index_train.append(i)\n",
    "        count6+=1\n",
    "        \n",
    "# calculate the error of round 6\n",
    "error6_train = 0\n",
    "total_train6 = np.array(weight6).sum()\n",
    "error6_test = 0\n",
    "for i in range(len(round6_error_index_train)):\n",
    "    curPos = round6_error_index_train[i]\n",
    "    error6_train += weight6[curPos]\n",
    "error6_train = error6_train/total_train6\n",
    "\n",
    "#estimator 6\n",
    "estimator_weight6 = 0.5 * np.log((1 - error6_train)/error6_train)\n",
    "\n",
    "# update weight\n",
    "for i in range(len(weight6)):\n",
    "    weight6[i] = weight6[i] * np.exp(-estimator_weight6 * y_train[i] * round6_y_train[i]) /total_train6"
   ]
  },
  {
   "cell_type": "code",
   "execution_count": 40,
   "metadata": {},
   "outputs": [],
   "source": [
    "round6_model_result = clfDT.predict(X_train)*estimator_weight1+clfDT2.predict(X_train)*estimator_weight2 + clfDT3.predict(X_train)*estimator_weight3 + clfDT4.predict(X_train)*estimator_weight4 + clfDT5.predict(X_train)*estimator_weight5 + clfDT6.predict(X_train)*estimator_weight6\n",
    "result6=[1 if i>=0 else -1 for i in round6_model_result]\n",
    "\n",
    "round6_model_result_test = clfDT.predict(X_test)*estimator_weight1+clfDT2.predict(X_test)*estimator_weight2 + clfDT3.predict(X_test)*estimator_weight3 + clfDT4.predict(X_test)*estimator_weight4 + clfDT5.predict(X_test)*estimator_weight5 + clfDT6.predict(X_test)*estimator_weight6\n",
    "result6_test=[1 if i>=0 else -1 for i in round6_model_result_test]"
   ]
  },
  {
   "cell_type": "code",
   "execution_count": 41,
   "metadata": {},
   "outputs": [],
   "source": [
    "train_error.append(zero_one_loss(result6,y_train))\n",
    "test_error.append(zero_one_loss(result6_test,y_test))"
   ]
  },
  {
   "cell_type": "markdown",
   "metadata": {},
   "source": [
    "# Round 7"
   ]
  },
  {
   "cell_type": "code",
   "execution_count": 42,
   "metadata": {},
   "outputs": [],
   "source": [
    "weight7 = weight6\n",
    "\n",
    "clfDT7 = DecisionTreeClassifier(max_depth = 3)\n",
    "clfDT7.fit(X_train,y_train,sample_weight = weight7)\n",
    "\n",
    "round7_y_train = clfDT7.predict(X_train)\n",
    "# test_error.append(zero_one_loss(clfDT7.predict(X_test),y_test))\n",
    "\n",
    "round7_error_index_train = []\n",
    "count7 = 0\n",
    "# round1_error_index_test = []\n",
    "for i in range(len(round7_y_train)):\n",
    "    if(round7_y_train[i] != y_train[i]):\n",
    "        round7_error_index_train.append(i)\n",
    "        count7+=1\n",
    "        \n",
    "# calculate the error of round 7\n",
    "error7_train = 0\n",
    "total_train7 = np.array(weight7).sum()\n",
    "error7_test = 0\n",
    "for i in range(len(round7_error_index_train)):\n",
    "    curPos = round7_error_index_train[i]\n",
    "    error7_train += weight7[curPos]\n",
    "error7_train = error7_train/total_train7\n",
    "\n",
    "#estimator 7\n",
    "estimator_weight7 = 0.5 * np.log((1 - error7_train)/error7_train)\n",
    "\n",
    "# update weight\n",
    "for i in range(len(weight7)):\n",
    "    weight7[i] = weight7[i] * np.exp(-estimator_weight7 * y_train[i] * round7_y_train[i]) /total_train7"
   ]
  },
  {
   "cell_type": "code",
   "execution_count": 43,
   "metadata": {},
   "outputs": [],
   "source": [
    "round7_model_result = clfDT.predict(X_train)*estimator_weight1+clfDT2.predict(X_train)*estimator_weight2 + clfDT3.predict(X_train)*estimator_weight3 + clfDT4.predict(X_train)*estimator_weight4 + clfDT5.predict(X_train)*estimator_weight5 + clfDT6.predict(X_train)*estimator_weight6 + clfDT7.predict(X_train)*estimator_weight7\n",
    "result7=[1 if i>=0 else -1 for i in round7_model_result]\n",
    "\n",
    "round7_model_result_test = clfDT.predict(X_test)*estimator_weight1+clfDT2.predict(X_test)*estimator_weight2 + clfDT3.predict(X_test)*estimator_weight3 + clfDT4.predict(X_test)*estimator_weight4 + clfDT5.predict(X_test)*estimator_weight5 + clfDT6.predict(X_test)*estimator_weight6 + clfDT7.predict(X_test)*estimator_weight7\n",
    "result7_test=[1 if i>=0 else -1 for i in round7_model_result_test]"
   ]
  },
  {
   "cell_type": "code",
   "execution_count": 44,
   "metadata": {},
   "outputs": [],
   "source": [
    "train_error.append(zero_one_loss(result7,y_train))\n",
    "test_error.append(zero_one_loss(result7_test,y_test))"
   ]
  },
  {
   "cell_type": "markdown",
   "metadata": {},
   "source": [
    "# Round 8"
   ]
  },
  {
   "cell_type": "code",
   "execution_count": 45,
   "metadata": {},
   "outputs": [],
   "source": [
    "weight8 = weight7\n",
    "\n",
    "clfDT8 = DecisionTreeClassifier(max_depth = 3)\n",
    "clfDT8.fit(X_train,y_train,sample_weight = weight8)\n",
    "\n",
    "round8_y_train = clfDT8.predict(X_train)\n",
    "# test_error.append(zero_one_loss(clfDT8.predict(X_test),y_test))\n",
    "\n",
    "round8_error_index_train = []\n",
    "count8 = 0\n",
    "# round1_error_index_test = []\n",
    "for i in range(len(round8_y_train)):\n",
    "    if(round8_y_train[i] != y_train[i]):\n",
    "        round8_error_index_train.append(i)\n",
    "        count8+=1\n",
    "        \n",
    "# calculate the error of round 8\n",
    "error8_train = 0\n",
    "total_train8 = np.array(weight8).sum()\n",
    "error8_test = 0\n",
    "for i in range(len(round8_error_index_train)):\n",
    "    curPos = round8_error_index_train[i]\n",
    "    error8_train += weight8[curPos]\n",
    "error8_train = error8_train/total_train8\n",
    "\n",
    "#estimator 8\n",
    "estimator_weight8 = 0.5 * np.log((1 - error8_train)/error8_train)\n",
    "\n",
    "# update weight\n",
    "for i in range(len(weight8)):\n",
    "    weight8[i] = weight8[i] * np.exp(-estimator_weight8 * y_train[i] * round8_y_train[i]) /total_train8"
   ]
  },
  {
   "cell_type": "code",
   "execution_count": 46,
   "metadata": {},
   "outputs": [],
   "source": [
    "round8_model_result = clfDT.predict(X_train)*estimator_weight1+clfDT2.predict(X_train)*estimator_weight2 + clfDT3.predict(X_train)*estimator_weight3 + clfDT4.predict(X_train)*estimator_weight4 + clfDT5.predict(X_train)*estimator_weight5 + clfDT6.predict(X_train)*estimator_weight6 + clfDT7.predict(X_train)*estimator_weight7 + clfDT8.predict(X_train)*estimator_weight8\n",
    "result8=[1 if i>=0 else -1 for i in round8_model_result]\n",
    "\n",
    "round8_model_result_test = clfDT.predict(X_test)*estimator_weight1+clfDT2.predict(X_test)*estimator_weight2 + clfDT3.predict(X_test)*estimator_weight3 + clfDT4.predict(X_test)*estimator_weight4 + clfDT5.predict(X_test)*estimator_weight5 + clfDT6.predict(X_test)*estimator_weight6 + clfDT7.predict(X_test)*estimator_weight7 + clfDT8.predict(X_test)*estimator_weight8\n",
    "result8_test=[1 if i>=0 else -1 for i in round8_model_result_test]"
   ]
  },
  {
   "cell_type": "code",
   "execution_count": 47,
   "metadata": {},
   "outputs": [],
   "source": [
    "train_error.append(zero_one_loss(result8,y_train))\n",
    "test_error.append(zero_one_loss(result8_test,y_test))"
   ]
  },
  {
   "cell_type": "markdown",
   "metadata": {},
   "source": [
    "# Round 9"
   ]
  },
  {
   "cell_type": "code",
   "execution_count": 48,
   "metadata": {},
   "outputs": [],
   "source": [
    "weight9 = weight8\n",
    "\n",
    "clfDT9 = DecisionTreeClassifier(max_depth = 3)\n",
    "clfDT9.fit(X_train,y_train,sample_weight = weight9)\n",
    "\n",
    "round9_y_train = clfDT9.predict(X_train)\n",
    "# test_error.append(zero_one_loss(clfDT9.predict(X_test),y_test))\n",
    "\n",
    "round9_error_index_train = []\n",
    "count9 = 0\n",
    "# round1_error_index_test = []\n",
    "for i in range(len(round9_y_train)):\n",
    "    if(round9_y_train[i] != y_train[i]):\n",
    "        round9_error_index_train.append(i)\n",
    "        count9+=1\n",
    "        \n",
    "# calculate the error of round 9\n",
    "error9_train = 0\n",
    "total_train9 = np.array(weight9).sum()\n",
    "error9_test = 0\n",
    "for i in range(len(round9_error_index_train)):\n",
    "    curPos = round9_error_index_train[i]\n",
    "    error9_train += weight9[curPos]\n",
    "error9_train = error9_train/total_train9\n",
    "\n",
    "#estimator 9\n",
    "estimator_weight9 = 0.5 * np.log((1 - error9_train)/error9_train)\n",
    "\n",
    "# update weight\n",
    "for i in range(len(weight9)):\n",
    "    weight9[i] = weight9[i] * np.exp(-estimator_weight9 * y_train[i] * round9_y_train[i]) /total_train9"
   ]
  },
  {
   "cell_type": "code",
   "execution_count": 49,
   "metadata": {},
   "outputs": [],
   "source": [
    "round9_model_result = clfDT.predict(X_train)*estimator_weight1+clfDT2.predict(X_train)*estimator_weight2 + clfDT3.predict(X_train)*estimator_weight3 + clfDT4.predict(X_train)*estimator_weight4 + clfDT5.predict(X_train)*estimator_weight5 + clfDT6.predict(X_train)*estimator_weight6 + clfDT7.predict(X_train)*estimator_weight7 + clfDT8.predict(X_train)*estimator_weight8 + clfDT9.predict(X_train)*estimator_weight9\n",
    "result9=[1 if i>=0 else -1 for i in round9_model_result]\n",
    "\n",
    "round9_model_result_test = clfDT.predict(X_test)*estimator_weight1+clfDT2.predict(X_test)*estimator_weight2 + clfDT3.predict(X_test)*estimator_weight3 + clfDT4.predict(X_test)*estimator_weight4 + clfDT5.predict(X_test)*estimator_weight5 + clfDT6.predict(X_test)*estimator_weight6 + clfDT7.predict(X_test)*estimator_weight7 + clfDT8.predict(X_test)*estimator_weight8 + clfDT9.predict(X_test)*estimator_weight9\n",
    "result9_test=[1 if i>=0 else -1 for i in round9_model_result_test]"
   ]
  },
  {
   "cell_type": "code",
   "execution_count": 50,
   "metadata": {},
   "outputs": [],
   "source": [
    "train_error.append(zero_one_loss(result9,y_train))\n",
    "test_error.append(zero_one_loss(result9_test,y_test))"
   ]
  },
  {
   "cell_type": "markdown",
   "metadata": {},
   "source": [
    "# Round 10"
   ]
  },
  {
   "cell_type": "code",
   "execution_count": 51,
   "metadata": {},
   "outputs": [],
   "source": [
    "weight10 = weight9\n",
    "\n",
    "clfDT10 = DecisionTreeClassifier(max_depth = 3)\n",
    "clfDT10.fit(X_train,y_train,sample_weight = weight10)\n",
    "\n",
    "round10_y_train = clfDT10.predict(X_train)\n",
    "# test_error.append(zero_one_loss(clfDT10.predict(X_test),y_test))\n",
    "\n",
    "round10_error_index_train = []\n",
    "count10 = 0\n",
    "# round1_error_index_test = []\n",
    "for i in range(len(round10_y_train)):\n",
    "    if(round10_y_train[i] != y_train[i]):\n",
    "        round10_error_index_train.append(i)\n",
    "        count10+=1\n",
    "        \n",
    "# calculate the error of round 10\n",
    "error10_train = 0\n",
    "total_train10 = np.array(weight10).sum()\n",
    "error10_test = 0\n",
    "for i in range(len(round10_error_index_train)):\n",
    "    curPos = round10_error_index_train[i]\n",
    "    error10_train += weight10[curPos]\n",
    "error10_train = error10_train/total_train10\n",
    "\n",
    "#estimator 10\n",
    "estimator_weight10 = 0.5 * np.log((1 - error10_train)/error10_train)\n",
    "\n",
    "# update weight\n",
    "for i in range(len(weight10)):\n",
    "    weight10[i] = weight10[i] * np.exp(-estimator_weight10 * y_train[i] * round10_y_train[i]) /total_train10"
   ]
  },
  {
   "cell_type": "code",
   "execution_count": 52,
   "metadata": {},
   "outputs": [],
   "source": [
    "round10_model_result = clfDT.predict(X_train)*estimator_weight1+clfDT2.predict(X_train)*estimator_weight2 + clfDT3.predict(X_train)*estimator_weight3 + clfDT4.predict(X_train)*estimator_weight4 + clfDT5.predict(X_train)*estimator_weight5 + clfDT6.predict(X_train)*estimator_weight6 + clfDT7.predict(X_train)*estimator_weight7 + clfDT8.predict(X_train)*estimator_weight8 + clfDT9.predict(X_train)*estimator_weight9 + clfDT10.predict(X_train)*estimator_weight10\n",
    "result10=[1 if i>=0 else -1 for i in round10_model_result]\n",
    "\n",
    "round10_model_result_test = clfDT.predict(X_test)*estimator_weight1+clfDT2.predict(X_test)*estimator_weight2 + clfDT3.predict(X_test)*estimator_weight3 + clfDT4.predict(X_test)*estimator_weight4 + clfDT5.predict(X_test)*estimator_weight5 + clfDT6.predict(X_test)*estimator_weight6 + clfDT7.predict(X_test)*estimator_weight7 + clfDT8.predict(X_test)*estimator_weight8 + clfDT9.predict(X_test)*estimator_weight9 + clfDT10.predict(X_test)*estimator_weight10\n",
    "result10_test=[1 if i>=0 else -1 for i in round10_model_result_test]"
   ]
  },
  {
   "cell_type": "code",
   "execution_count": 53,
   "metadata": {},
   "outputs": [],
   "source": [
    "train_error.append(zero_one_loss(result10,y_train))\n",
    "test_error.append(zero_one_loss(result10_test,y_test))"
   ]
  },
  {
   "cell_type": "code",
   "execution_count": 54,
   "metadata": {},
   "outputs": [
    {
     "data": {
      "image/png": "[encoded data removed]",
      "text/plain": [
       "<matplotlib.figure.Figure at 0x27684228860>"
      ]
     },
     "metadata": {},
     "output_type": "display_data"
    }
   ],
   "source": [
    "fig=plt.figure()\n",
    "ax=fig.add_subplot(111)\n",
    "ax.plot(np.arange(10)+1,test_error,label = 'adaboost test error',color ='red')\n",
    "ax.plot(np.arange(10)+1,train_error,label = 'adaboost train error',color = 'blue')\n",
    "ax.set_ylim((0.0,0.4))\n",
    "ax.set_xlabel('n_estimators')\n",
    "ax.set_ylabel('error rate')\n",
    "leg=ax.legend(loc='upper right',fancybox=True)\n",
    "plt.show()"
   ]
  },
  {
   "cell_type": "markdown",
   "metadata": {},
   "source": [
    "# Observation"
   ]
  },
  {
   "cell_type": "markdown",
   "metadata": {},
   "source": [
    "we can see that, from the round1 to round 10, the error is getting moew and moew low, so we can say that the classifier is getting more and more accurate, and we can see that the two plot is alomost the same and in round 10, the error is the same which is around 0.1"
   ]
  },
  {
   "cell_type": "code",
   "execution_count": null,
   "metadata": {},
   "outputs": [],
   "source": []
  }
 ],
 "metadata": {
  "kernelspec": {
   "display_name": "Python 3",
   "language": "python",
   "name": "python3"
  },
  "language_info": {
   "codemirror_mode": {
    "name": "ipython",
    "version": 3
   },
   "file_extension": ".py",
   "mimetype": "text/x-python",
   "name": "python",
   "nbconvert_exporter": "python",
   "pygments_lexer": "ipython3",
   "version": "3.6.4"
  }
 },
 "nbformat": 4,
 "nbformat_minor": 2
}
