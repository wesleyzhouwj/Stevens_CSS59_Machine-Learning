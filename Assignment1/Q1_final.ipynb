{
 "cells": [
  {
   "cell_type": "code",
   "execution_count": 1,
   "metadata": {},
   "outputs": [],
   "source": [
    "import pandas as pd\n",
    "import numpy as np\n",
    "import matplotlib.pyplot as plt\n",
    "from sklearn.model_selection import train_test_split\n",
    "from sklearn.model_selection import KFold\n",
    "from sklearn.metrics import recall_score"
   ]
  },
  {
   "cell_type": "code",
   "execution_count": 2,
   "metadata": {},
   "outputs": [],
   "source": [
    "dataset = pd.read_csv('C:\\\\Users\\\\WesleyZhou\\\\Desktop\\\\CS559\\\\Assignment2\\\\breast-cancer-wisconsin.data.csv')"
   ]
  },
  {
   "cell_type": "code",
   "execution_count": 3,
   "metadata": {},
   "outputs": [],
   "source": [
    "col = [\"F1\",\"F2\",\"F3\",\"F4\",\"F5\",\"F6\",\"F7\",\"F8\",\"F9\"]\n",
    "X = dataset[col].values\n",
    "y = dataset[\"Class\"].values"
   ]
  },
  {
   "cell_type": "code",
   "execution_count": 4,
   "metadata": {},
   "outputs": [],
   "source": [
    "count = []\n",
    "for k in range(len(X)):\n",
    "    if(X[k][5] == '?'):\n",
    "        count.append(k)\n",
    "X = np.delete(X,count,0)\n",
    "y = np.delete(y,count,0)"
   ]
  },
  {
   "cell_type": "code",
   "execution_count": 5,
   "metadata": {},
   "outputs": [],
   "source": [
    "X = X.astype(int)"
   ]
  },
  {
   "cell_type": "code",
   "execution_count": 6,
   "metadata": {},
   "outputs": [],
   "source": [
    "# 2 for benign, 4 for malignant so change 2=>0, 4 =>1\n",
    "for a in range(len(y)):\n",
    "    if(y[a] == 2):\n",
    "        y[a] = 0\n",
    "    else:\n",
    "        y[a] = 1"
   ]
  },
  {
   "cell_type": "code",
   "execution_count": 7,
   "metadata": {},
   "outputs": [],
   "source": [
    "#给X添加dummy列\n",
    "dummy = np.ones(len(X))\n",
    "X = np.c_[X,dummy]"
   ]
  },
  {
   "cell_type": "code",
   "execution_count": 8,
   "metadata": {},
   "outputs": [],
   "source": [
    "X_train, X_test_Final, y_train, y_test_Final = train_test_split(X,y,test_size = 0.3,random_state=None)\n",
    "X = X_train\n",
    "y = y_train"
   ]
  },
  {
   "cell_type": "code",
   "execution_count": 9,
   "metadata": {},
   "outputs": [],
   "source": [
    "def sigmoid(X,w):\n",
    "    z = np.dot(X,w)\n",
    "    return 1.0 / (1.0 + np.exp(-z))"
   ]
  },
  {
   "cell_type": "code",
   "execution_count": 10,
   "metadata": {},
   "outputs": [],
   "source": [
    "#需要使用*乘\n",
    "def lossFunction(y,fx):\n",
    "    return (-y * np.log(fx) - ((1-y) * np.log(1-fx))).mean()"
   ]
  },
  {
   "cell_type": "code",
   "execution_count": 11,
   "metadata": {},
   "outputs": [],
   "source": [
    "def predict(X,w):\n",
    "    return np.where(sigmoid(X,w)>=0.5,1,0)"
   ]
  },
  {
   "cell_type": "code",
   "execution_count": 12,
   "metadata": {},
   "outputs": [],
   "source": [
    "def SGD(X,y,w,alpha,epochs):\n",
    "    lossSGD = []\n",
    "    \n",
    "    for i in range(epochs):\n",
    "        index = np.arange(0,len(X))\n",
    "        np.random.shuffle(index)\n",
    "        for j in range(len(index)):\n",
    "            fx = sigmoid(X[j],w)\n",
    "            gradient = np.dot(X[j].T,fx-y[j])\n",
    "            w -= alpha * gradient\n",
    "            \n",
    "        hypothesisSGD = sigmoid(X,w)\n",
    "        lossSGD.append(lossFunction(y,hypothesisSGD))\n",
    "    \n",
    "    return w"
   ]
  },
  {
   "cell_type": "code",
   "execution_count": 13,
   "metadata": {},
   "outputs": [],
   "source": [
    "def mini_batch_GD(X,y,w,alpha,epochs,batch_size):\n",
    "    lossMini = []\n",
    "    index = np.arange(0,len(X))\n",
    "    \n",
    "    for i in range(epochs):\n",
    "        index = np.arange(0,len(X))\n",
    "        np.random.shuffle(index)\n",
    "        start = 0\n",
    "        for j in range(0,len(index),batch_size):\n",
    "            if(j == 0):\n",
    "                continue        \n",
    "            fx = sigmoid(X[start:j],w)\n",
    "            gradient = np.dot(X[start:j].T,fx-y[start:j])/batch_size\n",
    "            w -= alpha * gradient\n",
    "            start = j\n",
    "            \n",
    "        hypothesisMini = sigmoid(X,w)\n",
    "        lossMini.append(lossFunction(y,hypothesisMini))\n",
    "    return w"
   ]
  },
  {
   "cell_type": "code",
   "execution_count": 14,
   "metadata": {},
   "outputs": [],
   "source": [
    "#K-Fold SGD and Mini_Batch SGD\n",
    "SGD_Model = []\n",
    "SGD_Correct = []\n",
    "mini_Model = []\n",
    "mini_Correct = []\n",
    "\n",
    "kf = KFold(n_splits=10,shuffle = False)\n",
    "for train_index,test_index in kf.split(X):\n",
    "    X_train = X[[train_index]]\n",
    "    y_train = y[[train_index]]\n",
    "    X_test = X[[test_index]]\n",
    "    y_test = y[[test_index]]\n",
    "    \n",
    "    #SGD\n",
    "    w = np.zeros(X.shape[1])\n",
    "    alpha = 0.01\n",
    "    epochs = 500\n",
    "    SGDres = SGD(X_train,y_train,w,alpha,epochs)\n",
    "    predSGD = predict(X_test,SGDres)\n",
    "    SGD_correct_rate = (predSGD == y_test).mean()\n",
    "    \n",
    "    SGD_Model.append(SGDres)\n",
    "    SGD_Correct.append(SGD_correct_rate)\n",
    "    \n",
    "    #Mini_Batch SGD\n",
    "    w = np.zeros(X.shape[1])\n",
    "    alpha = 0.01\n",
    "    epochs = 500\n",
    "    batch_size = 20\n",
    "    minires = mini_batch_GD(X_train,y_train,w,alpha,epochs,batch_size)\n",
    "    predmini = predict(X_test,minires)\n",
    "    mini_correct_rate = (predmini == y_test).mean()\n",
    "    \n",
    "    mini_Model.append(minires)\n",
    "    mini_Correct.append(mini_correct_rate)\n",
    "    "
   ]
  },
  {
   "cell_type": "code",
   "execution_count": 15,
   "metadata": {},
   "outputs": [
    {
     "data": {
      "text/plain": [
       "[0.9583333333333334,\n",
       " 0.9791666666666666,\n",
       " 0.9791666666666666,\n",
       " 0.9583333333333334,\n",
       " 0.9583333333333334,\n",
       " 0.9375,\n",
       " 0.9791666666666666,\n",
       " 1.0,\n",
       " 1.0,\n",
       " 1.0]"
      ]
     },
     "execution_count": 15,
     "metadata": {},
     "output_type": "execute_result"
    }
   ],
   "source": [
    "SGD_Correct"
   ]
  },
  {
   "cell_type": "code",
   "execution_count": 16,
   "metadata": {},
   "outputs": [
    {
     "data": {
      "text/plain": [
       "[0.9375,\n",
       " 0.9791666666666666,\n",
       " 0.9583333333333334,\n",
       " 0.9791666666666666,\n",
       " 0.9375,\n",
       " 0.9583333333333334,\n",
       " 0.9375,\n",
       " 1.0,\n",
       " 1.0,\n",
       " 0.9787234042553191]"
      ]
     },
     "execution_count": 16,
     "metadata": {},
     "output_type": "execute_result"
    }
   ],
   "source": [
    "mini_Correct"
   ]
  },
  {
   "cell_type": "code",
   "execution_count": 17,
   "metadata": {},
   "outputs": [],
   "source": [
    "w_SGD = mini_Model[9]\n",
    "w_Mini = mini_Model[8]\n",
    "\n",
    "pred_SGD = predict(X_test_Final,w_SGD)\n",
    "pred_Mini = predict(X_test_Final,w_Mini)"
   ]
  },
  {
   "cell_type": "code",
   "execution_count": 18,
   "metadata": {},
   "outputs": [],
   "source": [
    "SGD_Accuracy = (pred_SGD == y_test_Final).mean()\n",
    "Mini_Accuracy = (pred_Mini == y_test_Final).mean()\n"
   ]
  },
  {
   "cell_type": "code",
   "execution_count": 19,
   "metadata": {},
   "outputs": [],
   "source": [
    "precision_index = []\n",
    "for i in range(len(y_test_Final)):\n",
    "    if y_test_Final[i] == 1:\n",
    "        precision_index.append(i)\n",
    "\n",
    "precision_tp_SGD = 0\n",
    "precision_fn_SGD = 0\n",
    "precision_tp_Mini = 0\n",
    "precision_fn_Mini = 0\n",
    "\n",
    "for idx in precision_index:\n",
    "    if pred_SGD[idx] == y_test_Final[idx]:\n",
    "        precision_tp_SGD+=1\n",
    "        \n",
    "    if pred_SGD[idx] != y_test_Final[idx]:\n",
    "        precision_fn_SGD+=1\n",
    "        \n",
    "    if pred_Mini[idx] == y_test_Final[idx]:\n",
    "        precision_tp_Mini+=1\n",
    "        \n",
    "    if pred_Mini[idx] != y_test_Final[idx]:\n",
    "        precision_fn_Mini+=1\n",
    "        \n",
    "recall_SGD = precision_tp_SGD/(precision_tp_SGD+precision_fn_SGD)\n",
    "recall_Mini = precision_tp_Mini/(precision_tp_Mini+precision_fn_Mini)"
   ]
  },
  {
   "cell_type": "code",
   "execution_count": 20,
   "metadata": {},
   "outputs": [],
   "source": [
    "precision_index = []\n",
    "for i in range(len(y_test_Final)):\n",
    "    if y_test_Final[i] == 0:\n",
    "        precision_index.append(i)\n",
    "        \n",
    "precision_fp_SGD = 0\n",
    "precision_fp_Mini = 0\n",
    "\n",
    "for idx in precision_index:\n",
    "    if y_test_Final[idx] != pred_SGD[idx]:\n",
    "        precision_fp_SGD+=1\n",
    "    if y_test_Final[idx] != pred_Mini[idx]:\n",
    "        precision_fp_Mini+=1\n",
    "        \n",
    "precision_SGD = precision_tp_SGD/(precision_tp_SGD+precision_fp_SGD)\n",
    "precision_Mini = precision_tp_Mini/(precision_tp_Mini+precision_fp_Mini)"
   ]
  },
  {
   "cell_type": "code",
   "execution_count": 23,
   "metadata": {},
   "outputs": [
    {
     "name": "stdout",
     "output_type": "stream",
     "text": [
      "SGD_Accuracy,0.965854,Mini_Accuracy,0.965854,recall_SGD,0.935897,recall_Mini,0.935897,precision_SGD,0.973333,precision_Mini,0.973333\n"
     ]
    }
   ],
   "source": [
    "print(\"%s,%f,%s,%f,%s,%f,%s,%f,%s,%f,%s,%f\"%(\"SGD_Accuracy\",SGD_Accuracy,\"Mini_Accuracy\",Mini_Accuracy,\"recall_SGD\",recall_SGD,\"recall_Mini\",recall_Mini,\"precision_SGD\",precision_SGD,\"precision_Mini\",precision_Mini))"
   ]
  },
  {
   "cell_type": "code",
   "execution_count": null,
   "metadata": {},
   "outputs": [],
   "source": []
  }
 ],
 "metadata": {
  "kernelspec": {
   "display_name": "Python 3",
   "language": "python",
   "name": "python3"
  },
  "language_info": {
   "codemirror_mode": {
    "name": "ipython",
    "version": 3
   },
   "file_extension": ".py",
   "mimetype": "text/x-python",
   "name": "python",
   "nbconvert_exporter": "python",
   "pygments_lexer": "ipython3",
   "version": "3.6.4"
  }
 },
 "nbformat": 4,
 "nbformat_minor": 2
}
