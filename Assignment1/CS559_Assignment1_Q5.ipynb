{
 "cells": [
  {
   "cell_type": "code",
   "execution_count": 191,
   "metadata": {},
   "outputs": [],
   "source": [
    "import pandas as pd\n",
    "import numpy as np\n",
    "import matplotlib.pyplot as plt\n",
    "import seaborn as sns \n",
    "%matplotlib inline \n",
    "from sklearn.model_selection import train_test_split\n",
    "from sklearn import preprocessing\n",
    "from sklearn.preprocessing import Imputer\n",
    "from sklearn import linear_model\n",
    "from sklearn.metrics import mean_absolute_error\n",
    "from sklearn.metrics import mean_squared_error"
   ]
  },
  {
   "cell_type": "code",
   "execution_count": 192,
   "metadata": {},
   "outputs": [],
   "source": [
    "dataset = pd.read_excel('C:\\\\Users\\\\WesleyZhou\\\\Desktop\\\\CS559\\\\Assignment1\\\\data1.xlsx')"
   ]
  },
  {
   "cell_type": "code",
   "execution_count": 193,
   "metadata": {},
   "outputs": [],
   "source": [
    "#split dataset into train and test"
   ]
  },
  {
   "cell_type": "code",
   "execution_count": 194,
   "metadata": {},
   "outputs": [],
   "source": [
    "cols = ['Genre','Gross','Budget','Screens','Sequel','Sentiment','Views','Likes','Dislikes','Comments','Aggregate Followers']"
   ]
  },
  {
   "cell_type": "code",
   "execution_count": 195,
   "metadata": {},
   "outputs": [],
   "source": [
    "X = dataset[cols].values\n",
    "y = dataset['Ratings'].values"
   ]
  },
  {
   "cell_type": "code",
   "execution_count": 196,
   "metadata": {},
   "outputs": [],
   "source": [
    "X_train, X_test, y_train, y_test = train_test_split(X,y,test_size = 0.3,random_state=None)"
   ]
  },
  {
   "cell_type": "code",
   "execution_count": 197,
   "metadata": {},
   "outputs": [],
   "source": [
    "dataX_test = X_test\n",
    "datay_test = y_test"
   ]
  },
  {
   "cell_type": "code",
   "execution_count": 198,
   "metadata": {},
   "outputs": [],
   "source": [
    "# for-loop from 1 to 10"
   ]
  },
  {
   "cell_type": "code",
   "execution_count": 199,
   "metadata": {},
   "outputs": [],
   "source": [
    "Lasso_mean_result = []\n",
    "Lasso_std_result = []\n",
    "Ridge_mean_result = []\n",
    "Ridge_std_result = []\n",
    "Lasso_model = []\n",
    "Ridge_model = []"
   ]
  },
  {
   "cell_type": "code",
   "execution_count": 200,
   "metadata": {},
   "outputs": [],
   "source": [
    "for k in range(10):\n",
    "    X = X_train\n",
    "    y = y_train\n",
    "    X_train1, X_test1, y_train1, y_test1 = train_test_split(X,y,test_size = 0.3,random_state=None)\n",
    "    X_validation = X_test1\n",
    "    y_validation = y_test1\n",
    "    \n",
    "    # deal with missing value \n",
    "    imp = Imputer(missing_values='NaN', strategy='mean', axis=0)\n",
    "    imp.fit(X_train1)\n",
    "    X_train1 = imp.transform(X_train1)\n",
    "    imp.fit(X_validation)\n",
    "    X_validation = imp.transform(X_validation)\n",
    "    \n",
    "    #deal with normalization\n",
    "    min_max_scaler = preprocessing.MinMaxScaler()\n",
    "    X_train1= min_max_scaler.fit_transform(X_train1)\n",
    "    X_validation = min_max_scaler.transform(X_validation)\n",
    "    \n",
    "    # Using model\n",
    "    reg1 = linear_model.Lasso(alpha = 0.1)\n",
    "    reg1.fit(X_train1,y_train1)\n",
    "    reg1_pred = reg1.predict(X_validation)\n",
    "    Lasso_model.append(reg1)\n",
    "    \n",
    "    #mean and sd\n",
    "#   Lasso_mean_result.append(np.mean(np.abs(y_validation-reg1_pred)))\n",
    "\n",
    "#     Lasso_mean_result.append(mean_absolute_error(y_validation, reg1_pred))\n",
    "#     Lasso_std_result.append(np.sqrt(np.mean((y_validation-reg1_pred)*(y_validation-reg1_pred))))\n",
    "    \n",
    "    Lasso_mean_result.append(mean_absolute_error(y_validation, reg1_pred))\n",
    "    Lasso_mean = mean_absolute_error(y_validation, reg1_pred)\n",
    "    \n",
    "    sum1 = 0\n",
    "    for f in range(len(reg1_pred)):\n",
    "        ele1 = np.abs(reg1_pred[f]-y_validation[f])\n",
    "        sum1 += (ele1-Lasso_mean)*(ele1-Lasso_mean)\n",
    "    Lasso_std_result.append(np.sqrt(sum1/len(reg1_pred)))\n",
    "\n",
    "    \n",
    "    \n",
    "       # Using model\n",
    "    reg = linear_model.Ridge(alpha = .5)\n",
    "    reg.fit(X_train1,y_train1)\n",
    "    reg_pred = reg.predict(X_validation)\n",
    "    Ridge_model.append(reg)\n",
    "    \n",
    "    #mean and sd\n",
    "#     Ridge_mean_result.append(np.mean(np.abs(y_validation-reg_pred)))\n",
    "\n",
    "#     Ridge_mean_result.append(mean_absolute_error(y_validation, reg_pred))\n",
    "#     Ridge_std_result.append(np.sqrt(np.mean((y_validation-reg_pred)*(y_validation-reg_pred))))\n",
    "    \n",
    "    Ridge_mean_result.append(mean_absolute_error(y_validation, reg_pred))\n",
    "    Ridge_mean = mean_absolute_error(y_validation, reg_pred)\n",
    "    \n",
    "    sum2 = 0\n",
    "    for v in range(len(reg_pred)):\n",
    "        ele2 = np.abs(reg_pred[v]-y_validation[v])\n",
    "        sum2 += (ele2-Ridge_mean)*(ele2-Ridge_mean)\n",
    "    Ridge_std_result.append(np.sqrt(sum2/len(reg_pred)))\n",
    "    "
   ]
  },
  {
   "cell_type": "code",
   "execution_count": 204,
   "metadata": {},
   "outputs": [
    {
     "data": {
      "image/png": "[encoded data removed]",
      "text/plain": [
       "<matplotlib.figure.Figure at 0x273e29e17f0>"
      ]
     },
     "metadata": {},
     "output_type": "display_data"
    }
   ],
   "source": [
    "plt.scatter(Lasso_mean_result,Lasso_std_result)\n",
    "plt.title(\"Lasso Regression\")\n",
    "plt.xlabel('Lasso_mean')\n",
    "plt.ylabel('Lasso_std')\n",
    "plt.show()"
   ]
  },
  {
   "cell_type": "code",
   "execution_count": 205,
   "metadata": {
    "scrolled": true
   },
   "outputs": [
    {
     "data": {
      "image/png": "[encoded data removed]",
      "text/plain": [
       "<matplotlib.figure.Figure at 0x273e29e1c50>"
      ]
     },
     "metadata": {},
     "output_type": "display_data"
    }
   ],
   "source": [
    "plt.scatter(Ridge_mean_result,Ridge_std_result)\n",
    "plt.title(\"Ridge Regression\")\n",
    "plt.xlabel('Ridge_mean')\n",
    "plt.ylabel('Ridge_std')\n",
    "plt.show()"
   ]
  },
  {
   "cell_type": "code",
   "execution_count": 206,
   "metadata": {},
   "outputs": [
    {
     "data": {
      "text/html": [
       "<div>\n",
       "<style scoped>\n",
       "    .dataframe tbody tr th:only-of-type {\n",
       "        vertical-align: middle;\n",
       "    }\n",
       "\n",
       "    .dataframe tbody tr th {\n",
       "        vertical-align: top;\n",
       "    }\n",
       "\n",
       "    .dataframe thead th {\n",
       "        text-align: right;\n",
       "    }\n",
       "</style>\n",
       "<table border=\"1\" class=\"dataframe\">\n",
       "  <thead>\n",
       "    <tr style=\"text-align: right;\">\n",
       "      <th></th>\n",
       "      <th>Lasso_mean_result</th>\n",
       "      <th>Lasso_std_result</th>\n",
       "      <th>Ridge_mean_result</th>\n",
       "      <th>Ridge_std_result</th>\n",
       "    </tr>\n",
       "  </thead>\n",
       "  <tbody>\n",
       "    <tr>\n",
       "      <th>0</th>\n",
       "      <td>0.637245</td>\n",
       "      <td>0.624193</td>\n",
       "      <td>0.657931</td>\n",
       "      <td>0.655961</td>\n",
       "    </tr>\n",
       "    <tr>\n",
       "      <th>1</th>\n",
       "      <td>0.775182</td>\n",
       "      <td>0.658688</td>\n",
       "      <td>0.684542</td>\n",
       "      <td>0.554775</td>\n",
       "    </tr>\n",
       "    <tr>\n",
       "      <th>2</th>\n",
       "      <td>0.728517</td>\n",
       "      <td>0.616173</td>\n",
       "      <td>0.690354</td>\n",
       "      <td>0.586105</td>\n",
       "    </tr>\n",
       "    <tr>\n",
       "      <th>3</th>\n",
       "      <td>0.756979</td>\n",
       "      <td>0.671527</td>\n",
       "      <td>0.665984</td>\n",
       "      <td>0.592957</td>\n",
       "    </tr>\n",
       "    <tr>\n",
       "      <th>4</th>\n",
       "      <td>0.866217</td>\n",
       "      <td>0.634052</td>\n",
       "      <td>0.811990</td>\n",
       "      <td>0.637047</td>\n",
       "    </tr>\n",
       "    <tr>\n",
       "      <th>5</th>\n",
       "      <td>0.734475</td>\n",
       "      <td>0.551599</td>\n",
       "      <td>0.669693</td>\n",
       "      <td>0.514862</td>\n",
       "    </tr>\n",
       "    <tr>\n",
       "      <th>6</th>\n",
       "      <td>0.790069</td>\n",
       "      <td>0.593962</td>\n",
       "      <td>0.711634</td>\n",
       "      <td>0.546218</td>\n",
       "    </tr>\n",
       "    <tr>\n",
       "      <th>7</th>\n",
       "      <td>0.793349</td>\n",
       "      <td>0.534030</td>\n",
       "      <td>0.781148</td>\n",
       "      <td>0.490399</td>\n",
       "    </tr>\n",
       "    <tr>\n",
       "      <th>8</th>\n",
       "      <td>0.857526</td>\n",
       "      <td>0.673753</td>\n",
       "      <td>0.854542</td>\n",
       "      <td>0.589856</td>\n",
       "    </tr>\n",
       "    <tr>\n",
       "      <th>9</th>\n",
       "      <td>0.766327</td>\n",
       "      <td>0.623375</td>\n",
       "      <td>0.723656</td>\n",
       "      <td>0.542137</td>\n",
       "    </tr>\n",
       "  </tbody>\n",
       "</table>\n",
       "</div>"
      ],
      "text/plain": [
       "   Lasso_mean_result  Lasso_std_result  Ridge_mean_result  Ridge_std_result\n",
       "0           0.637245          0.624193           0.657931          0.655961\n",
       "1           0.775182          0.658688           0.684542          0.554775\n",
       "2           0.728517          0.616173           0.690354          0.586105\n",
       "3           0.756979          0.671527           0.665984          0.592957\n",
       "4           0.866217          0.634052           0.811990          0.637047\n",
       "5           0.734475          0.551599           0.669693          0.514862\n",
       "6           0.790069          0.593962           0.711634          0.546218\n",
       "7           0.793349          0.534030           0.781148          0.490399\n",
       "8           0.857526          0.673753           0.854542          0.589856\n",
       "9           0.766327          0.623375           0.723656          0.542137"
      ]
     },
     "execution_count": 206,
     "metadata": {},
     "output_type": "execute_result"
    }
   ],
   "source": [
    "Lasso = []\n",
    "for i in range(10):\n",
    "    cur = []\n",
    "    cur.append(Lasso_mean_result[i])\n",
    "    cur.append(Lasso_std_result[i])\n",
    "    cur.append(Ridge_mean_result[i])\n",
    "    cur.append(Ridge_std_result[i])\n",
    "    Lasso.append(cur)\n",
    "\n",
    "result = pd.DataFrame(Lasso,columns=['Lasso_mean_result','Lasso_std_result','Ridge_mean_result','Ridge_std_result'])\n",
    "result"
   ]
  },
  {
   "cell_type": "code",
   "execution_count": 14,
   "metadata": {},
   "outputs": [],
   "source": [
    "# As we can see the best model is the model which has the lowest std and mean"
   ]
  },
  {
   "cell_type": "code",
   "execution_count": 207,
   "metadata": {},
   "outputs": [],
   "source": [
    "Lasso_current = Lasso_model[0]\n",
    "Ridge_current = Ridge_model[1]"
   ]
  },
  {
   "cell_type": "code",
   "execution_count": 208,
   "metadata": {},
   "outputs": [],
   "source": [
    "#For test dateset"
   ]
  },
  {
   "cell_type": "code",
   "execution_count": 209,
   "metadata": {},
   "outputs": [],
   "source": [
    "imp = Imputer(missing_values='NaN', strategy='mean', axis=0)\n",
    "imp.fit(dataX_test)\n",
    "dataX_test = imp.transform(dataX_test)\n",
    "\n",
    "min_max_scaler = preprocessing.MinMaxScaler()\n",
    "dataX_test= min_max_scaler.fit_transform(dataX_test)"
   ]
  },
  {
   "cell_type": "code",
   "execution_count": 210,
   "metadata": {},
   "outputs": [],
   "source": [
    "Lasso_pred = Lasso_current.predict(dataX_test)\n",
    "Ridge_pred = Ridge_current.predict(dataX_test)"
   ]
  },
  {
   "cell_type": "code",
   "execution_count": 211,
   "metadata": {},
   "outputs": [],
   "source": [
    "from sklearn.metrics import mean_squared_error"
   ]
  },
  {
   "cell_type": "code",
   "execution_count": 212,
   "metadata": {},
   "outputs": [],
   "source": [
    "Lasso_error = mean_squared_error(datay_test, Lasso_pred)\n",
    "Ridge_error = mean_squared_error(datay_test, Ridge_pred)"
   ]
  },
  {
   "cell_type": "code",
   "execution_count": 213,
   "metadata": {},
   "outputs": [
    {
     "data": {
      "text/plain": [
       "0.999829081632653"
      ]
     },
     "execution_count": 213,
     "metadata": {},
     "output_type": "execute_result"
    }
   ],
   "source": [
    "Lasso_error"
   ]
  },
  {
   "cell_type": "code",
   "execution_count": 214,
   "metadata": {},
   "outputs": [
    {
     "data": {
      "text/plain": [
       "0.7962671309405739"
      ]
     },
     "execution_count": 214,
     "metadata": {},
     "output_type": "execute_result"
    }
   ],
   "source": [
    "Ridge_error"
   ]
  },
  {
   "cell_type": "code",
   "execution_count": 215,
   "metadata": {},
   "outputs": [],
   "source": [
    "# Report for assignment 1 question 5"
   ]
  },
  {
   "cell_type": "code",
   "execution_count": 216,
   "metadata": {},
   "outputs": [],
   "source": [
    "# For Assignment 1 Question 5, i choose the first dataset, And my idea is: \n",
    "#Step 1: Split the original dataset into train and test dataset\n",
    "#Step 2: Write a for-loop to go through 10 times of the algorithm\n",
    "#Step 3: In the for-loop, I first split the train dataset into train and validation dataset, second using mean value to deal with \n",
    "#       the missing value. Third, scaling the data using MinMaxScaler. Finally, fit the Lasso and Ridge model, and predict the result\n",
    "#       For 1o Lasso and Ridge mean and std values, i stored them in different arrays, and also for 10 different models, i stored\n",
    "#       in different arrays.\n",
    "#Step 4:I use the table and charts to show the value of mean and std results and distribution of them\n",
    "#Step 5:Choose the best model of both Lasso and Ridge model, and predict the test dataset error value\n",
    "\n",
    "#Notes: Because the prof said, we don't need to use all the features, so i just choose some of the features based on my own knowledge\n",
    "#       Most of the packages in my code is from the skicit-learn\n"
   ]
  },
  {
   "cell_type": "code",
   "execution_count": null,
   "metadata": {},
   "outputs": [],
   "source": []
  }
 ],
 "metadata": {
  "kernelspec": {
   "display_name": "Python 3",
   "language": "python",
   "name": "python3"
  },
  "language_info": {
   "codemirror_mode": {
    "name": "ipython",
    "version": 3
   },
   "file_extension": ".py",
   "mimetype": "text/x-python",
   "name": "python",
   "nbconvert_exporter": "python",
   "pygments_lexer": "ipython3",
   "version": "3.6.4"
  }
 },
 "nbformat": 4,
 "nbformat_minor": 2
}
